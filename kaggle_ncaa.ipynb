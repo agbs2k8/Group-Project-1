{
  "metadata": {
    "kernelspec": {
      "display_name": "Python 3",
      "language": "python",
      "name": "python3"
    },
    "language_info": {
      "codemirror_mode": {
        "name": "ipython",
        "version": 3
      },
      "file_extension": ".py",
      "mimetype": "text/x-python",
      "name": "python",
      "nbconvert_exporter": "python",
      "pygments_lexer": "ipython3",
      "version": "3.5.2"
    }
  },
  "nbformat": 4,
  "nbformat_minor": 0,
  "cells": [
    {
      "cell_type": "code",
      "source": "# This Python 3 environment comes with many helpful analytics libraries installed\n# It is defined by the kaggle/python docker image: https://github.com/kaggle/docker-python\n# For example, here's several helpful packages to load in \n\nimport numpy as np # linear algebra\nimport pandas as pd # data processing, CSV file I/O (e.g. pd.read_csv)\n\n# Input data files are available in the \"../input/\" directory.\n# For example, running this (by clicking run or pressing Shift+Enter) will list the files in the input directory\n\nfrom subprocess import check_output\nprint(check_output([\"ls\", \"../input\"]).decode(\"utf8\"))\n\n# Any results you write to the current directory are saved as output.",
      "execution_count": null,
      "outputs": [],
      "metadata": {}
    },
    {
      "cell_type": "code",
      "source": "import matplotlib.pyplot as plt\nfrom sklearn.linear_model import LogisticRegression\nfrom sklearn.utils import shuffle\nfrom sklearn.model_selection import GridSearchCV",
      "execution_count": null,
      "outputs": [],
      "metadata": {}
    },
    {
      "cell_type": "code",
      "source": "reg_detailed_results = pd.read_csv(\"../input/RegularSeasonDetailedResults.csv\")\nreg_detailed_results[:6]",
      "execution_count": null,
      "outputs": [],
      "metadata": {}
    },
    {
      "cell_type": "code",
      "source": "#reg_detailed_results.dtypes",
      "execution_count": null,
      "outputs": [],
      "metadata": {}
    },
    {
      "cell_type": "code",
      "source": "reg_detailed_results[['Wscore','Lscore']].plot.hist(alpha = 0.5, bins =30, stacked = False)",
      "execution_count": null,
      "outputs": [],
      "metadata": {}
    },
    {
      "cell_type": "code",
      "source": "seeds = pd.read_csv(\"../input/TourneySeeds.csv\")\nseeds[:6]",
      "execution_count": null,
      "outputs": [],
      "metadata": {}
    },
    {
      "cell_type": "code",
      "source": "def split_seed(Seed):\n    return (str(Seed[0]),int(Seed[1:3]))\nprint(type(split_seed('z16a')))\n\ndef get_seed_num(Seed):\n    return split_seed(Seed)[1]\ndef get_seed_reg(Seed):\n    return split_seed(Seed)[0]\n#print(set(seeds['Seed']))\nseeds['region'] = seeds['Seed'].apply(get_seed_reg)\nseeds['num_seed'] = seeds['Seed'].apply(get_seed_num)\nseeds.drop(labels=['Seed'], inplace=True, axis=1)\nprint(seeds[:6])\n\nwin_seeds = seeds.rename(columns={'Team':'Wteam', 'num_seed':'win_seed','region':'win_region'})\nloss_seeds = seeds.rename(columns={'Team':'Lteam', 'num_seed':'loss_seed','region':'loss_region'})\n\nprint(win_seeds[:3])\nprint(loss_seeds[:3])",
      "execution_count": null,
      "outputs": [],
      "metadata": {}
    },
    {
      "cell_type": "code",
      "source": "tourn_compact = pd.read_csv(\"../input/TourneyCompactResults.csv\")\ntourn_compact[:6]",
      "execution_count": null,
      "outputs": [],
      "metadata": {}
    },
    {
      "cell_type": "code",
      "source": "tourn_full = pd.read_csv(\"../input/TourneyDetailedResults.csv\")\ntourn_full[:6]",
      "execution_count": null,
      "outputs": [],
      "metadata": {}
    },
    {
      "cell_type": "code",
      "source": "# Follow other's log regression on seed",
      "execution_count": null,
      "outputs": [],
      "metadata": {}
    },
    {
      "cell_type": "code",
      "source": "temp = pd.merge(left=tourn_compact, right=win_seeds, how='left', on=['Season', 'Wteam'])\nfull_data = pd.merge(left=temp, right=loss_seeds, on=['Season', 'Lteam'])\nfull_data['seed_diff'] = full_data['win_seed'] - full_data['loss_seed'] \nfull_data[:6]",
      "execution_count": null,
      "outputs": [],
      "metadata": {}
    },
    {
      "cell_type": "code",
      "source": "df_wins = pd.DataFrame()\ndf_wins['seed_diff'] = full_data['seed_diff']\ndf_wins['result'] = 1\n\ndf_losses = pd.DataFrame()\ndf_losses['seed_diff'] = -full_data['seed_diff']\ndf_losses['result'] = 0\n\ndf_for_predictions = pd.concat((df_wins, df_losses))\ndf_for_predictions[:6]\n#len(df_for_predictions)",
      "execution_count": null,
      "outputs": [],
      "metadata": {}
    },
    {
      "cell_type": "code",
      "source": "logreg = LogisticRegression()\nparams = {'C': np.logspace(start=-5, stop=3, num=10)}\nclf = GridSearchCV(logreg, params, scoring='neg_log_loss', refit=True)\nclf.fit(df_for_predictions.seed_diff.values.reshape(-1,1), df_for_predictions.result.values)\nprint('Best log_loss: {:.4}, with best C: {}'.format(clf.best_score_, clf.best_params_['C']))",
      "execution_count": null,
      "outputs": [],
      "metadata": {}
    },
    {
      "cell_type": "code",
      "source": "X = np.arange(-16, 16).reshape(-1, 1)\npreds = clf.predict_proba(X)[:,1]\n\nplt.plot(X, preds)\nplt.xlabel('Team1 seed - Team2 seed')\nplt.ylabel('P(Team1 will win)')",
      "execution_count": null,
      "outputs": [],
      "metadata": {}
    }
  ]
}